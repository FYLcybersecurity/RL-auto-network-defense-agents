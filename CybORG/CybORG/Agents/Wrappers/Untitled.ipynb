{
 "cells": [
  {
   "cell_type": "code",
   "execution_count": 29,
   "metadata": {},
   "outputs": [],
   "source": [
    "from CybORG import CybORG    \n",
    "import inspect    \n",
    "    \n",
    "from CybORG.Agents.SimpleAgents.KeyboardAgent import KeyboardAgent    \n",
    "from CybORG.Agents.Wrappers.TrueStateWrapper import TrueStateWrapper    "
   ]
  },
  {
   "cell_type": "code",
   "execution_count": 30,
   "metadata": {},
   "outputs": [
    {
     "name": "stdout",
     "output_type": "stream",
     "text": [
      "Setup\n"
     ]
    }
   ],
   "source": [
    "if __name__ == \"__main__\":    \n",
    "    print(\"Setup\")    \n",
    "    path = str(inspect.getfile(CybORG))    \n",
    "    path = path[:-10] + '/Shared/Scenarios/Scenario1b.yaml'    \n",
    "    \n",
    "    cyborg = TrueStateWrapper(env=CybORG(path, 'sim'), output_mode='table')    \n",
    "    agent_name = 'Red'    \n",
    "    \n",
    "    results = cyborg.reset(agent=agent_name)    \n",
    "    observation = results.observation   "
   ]
  },
  {
   "cell_type": "code",
   "execution_count": 31,
   "metadata": {},
   "outputs": [],
   "source": [
    "# Clean Obs\n",
    "obs = observation\n",
    "del obs['success']"
   ]
  },
  {
   "cell_type": "code",
   "execution_count": 32,
   "metadata": {},
   "outputs": [],
   "source": [
    "host = obs.popitem()[1]"
   ]
  },
  {
   "cell_type": "code",
   "execution_count": 33,
   "metadata": {},
   "outputs": [
    {
     "data": {
      "text/plain": [
       "{'Hostname': 'User4',\n",
       " 'OSType': <OperatingSystemType.LINUX: 3>,\n",
       " 'OSDistribution': <OperatingSystemDistribution.UBUNTU: 8>,\n",
       " 'OSVersion': <OperatingSystemVersion.U18_04_3: 6>,\n",
       " 'Architecture': <Architecture.x64: 2>}"
      ]
     },
     "execution_count": 33,
     "metadata": {},
     "output_type": "execute_result"
    }
   ],
   "source": [
    "host['System info']"
   ]
  },
  {
   "cell_type": "code",
   "execution_count": 35,
   "metadata": {},
   "outputs": [
    {
     "data": {
      "text/plain": [
       "[{'Interface Name': 'lo',\n",
       "  'IP Address': IPv4Address('127.0.0.1'),\n",
       "  'Subnet': IPv4Network('127.0.0.0/8')},\n",
       " {'Interface Name': 'eth0',\n",
       "  'IP Address': IPv4Address('10.0.124.84'),\n",
       "  'Subnet': IPv4Network('10.0.124.80/28')}]"
      ]
     },
     "execution_count": 35,
     "metadata": {},
     "output_type": "execute_result"
    }
   ],
   "source": [
    "host['Interface']"
   ]
  },
  {
   "cell_type": "code",
   "execution_count": 21,
   "metadata": {},
   "outputs": [],
   "source": [
    "# Create Knowledge Graph\n",
    "from CybORG.Agents.Wrappers.KnowledgeGraph import KnowledgeGraph\n",
    "G = KnowledgeGraph()"
   ]
  },
  {
   "cell_type": "code",
   "execution_count": 4,
   "metadata": {},
   "outputs": [
    {
     "ename": "NameError",
     "evalue": "name 'self' is not defined",
     "output_type": "error",
     "traceback": [
      "\u001b[0;31m---------------------------------------------------------------------------\u001b[0m",
      "\u001b[0;31mNameError\u001b[0m                                 Traceback (most recent call last)",
      "\u001b[0;32m<ipython-input-4-b28c64833ef5>\u001b[0m in \u001b[0;36m<module>\u001b[0;34m\u001b[0m\n\u001b[1;32m      5\u001b[0m         \u001b[0minfo\u001b[0m \u001b[0;34m=\u001b[0m \u001b[0mhost\u001b[0m\u001b[0;34m[\u001b[0m\u001b[0;34m'System info'\u001b[0m\u001b[0;34m]\u001b[0m\u001b[0;34m\u001b[0m\u001b[0;34m\u001b[0m\u001b[0m\n\u001b[1;32m      6\u001b[0m         \u001b[0minfo\u001b[0m\u001b[0;34m[\u001b[0m\u001b[0;34m'hostid'\u001b[0m\u001b[0;34m]\u001b[0m \u001b[0;34m=\u001b[0m \u001b[0mhostid\u001b[0m\u001b[0;34m\u001b[0m\u001b[0;34m\u001b[0m\u001b[0m\n\u001b[0;32m----> 7\u001b[0;31m         \u001b[0mself\u001b[0m\u001b[0;34m.\u001b[0m\u001b[0mG\u001b[0m\u001b[0;34m.\u001b[0m\u001b[0madd_system_info\u001b[0m\u001b[0;34m(\u001b[0m\u001b[0minfo\u001b[0m\u001b[0;34m)\u001b[0m\u001b[0;34m\u001b[0m\u001b[0;34m\u001b[0m\u001b[0m\n\u001b[0m\u001b[1;32m      8\u001b[0m \u001b[0;34m\u001b[0m\u001b[0m\n\u001b[1;32m      9\u001b[0m     \u001b[0;32mif\u001b[0m \u001b[0;34m'Interface'\u001b[0m \u001b[0;32min\u001b[0m \u001b[0mhost\u001b[0m\u001b[0;34m:\u001b[0m\u001b[0;34m\u001b[0m\u001b[0;34m\u001b[0m\u001b[0m\n",
      "\u001b[0;31mNameError\u001b[0m: name 'self' is not defined"
     ]
    }
   ],
   "source": [
    "# Add Host\n",
    "for hostid in obs:\n",
    "    host = obs[hostid]\n",
    "    \n",
    "    if 'System info' in host:\n",
    "        info = host['System info']\n",
    "    else:\n",
    "        info = {}"
   ]
  },
  {
   "cell_type": "code",
   "execution_count": null,
   "metadata": {},
   "outputs": [],
   "source": []
  }
 ],
 "metadata": {
  "kernelspec": {
   "display_name": "Python 3",
   "language": "python",
   "name": "python3"
  },
  "language_info": {
   "codemirror_mode": {
    "name": "ipython",
    "version": 3
   },
   "file_extension": ".py",
   "mimetype": "text/x-python",
   "name": "python",
   "nbconvert_exporter": "python",
   "pygments_lexer": "ipython3",
   "version": "3.7.5"
  }
 },
 "nbformat": 4,
 "nbformat_minor": 4
}
